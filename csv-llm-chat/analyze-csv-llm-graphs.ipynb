{
 "cells": [
  {
   "cell_type": "markdown",
   "id": "d7dc7e39-dd9a-43e3-8d9a-f77af583004c",
   "metadata": {},
   "source": [
    "### Dell Technologies Proof of Concept - CHAT, ANALYZE AND GRAPH YOUR CSV DATA WITH MISTRAL LLM\n",
    "- Model:  Mistral instruct v2\n",
    "- Workload:  CSV analysis using LLM\n",
    "- Orchestrator:  Langchain csv agent\n",
    "- Dataset:  hospital visits\n",
    "\n",
    "Note: The software and sample files are provided “as is” and are to be used only in conjunction with this POC application. They should not be used in production and are provided without warranty or guarantees. Please use them at your own discretion.\n",
    "    "
   ]
  },
  {
   "cell_type": "markdown",
   "id": "5dbcd722",
   "metadata": {},
   "source": [
    "### Huggingface tools\n",
    "\n",
    "You will need to at least log in once to get the hub for tools and the embedding model.  After that you can comment this section out."
   ]
  },
  {
   "cell_type": "code",
   "execution_count": 1,
   "id": "89d4d542-e238-4948-ade3-efb972c78cd1",
   "metadata": {},
   "outputs": [
    {
     "name": "stdout",
     "output_type": "stream",
     "text": [
      "Requirement already satisfied: huggingface-hub in /home/demouser/miniconda3/envs/csv/lib/python3.10/site-packages (0.20.3)\n",
      "Requirement already satisfied: filelock in /home/demouser/miniconda3/envs/csv/lib/python3.10/site-packages (from huggingface-hub) (3.13.1)\n",
      "Requirement already satisfied: fsspec>=2023.5.0 in /home/demouser/miniconda3/envs/csv/lib/python3.10/site-packages (from huggingface-hub) (2023.10.0)\n",
      "Requirement already satisfied: requests in /home/demouser/miniconda3/envs/csv/lib/python3.10/site-packages (from huggingface-hub) (2.31.0)\n",
      "Requirement already satisfied: tqdm>=4.42.1 in /home/demouser/miniconda3/envs/csv/lib/python3.10/site-packages (from huggingface-hub) (4.66.2)\n",
      "Requirement already satisfied: pyyaml>=5.1 in /home/demouser/miniconda3/envs/csv/lib/python3.10/site-packages (from huggingface-hub) (6.0.1)\n",
      "Requirement already satisfied: typing-extensions>=3.7.4.3 in /home/demouser/miniconda3/envs/csv/lib/python3.10/site-packages (from huggingface-hub) (4.9.0)\n",
      "Requirement already satisfied: packaging>=20.9 in /home/demouser/miniconda3/envs/csv/lib/python3.10/site-packages (from huggingface-hub) (23.2)\n",
      "Requirement already satisfied: charset-normalizer<4,>=2 in /home/demouser/miniconda3/envs/csv/lib/python3.10/site-packages (from requests->huggingface-hub) (3.3.2)\n",
      "Requirement already satisfied: idna<4,>=2.5 in /home/demouser/miniconda3/envs/csv/lib/python3.10/site-packages (from requests->huggingface-hub) (3.6)\n",
      "Requirement already satisfied: urllib3<3,>=1.21.1 in /home/demouser/miniconda3/envs/csv/lib/python3.10/site-packages (from requests->huggingface-hub) (2.2.1)\n",
      "Requirement already satisfied: certifi>=2017.4.17 in /home/demouser/miniconda3/envs/csv/lib/python3.10/site-packages (from requests->huggingface-hub) (2024.2.2)\n",
      "Note: you may need to restart the kernel to use updated packages.\n",
      "Token is valid (permission: read).\n",
      "Your token has been saved in your configured git credential helpers (store).\n",
      "Your token has been saved to /home/demouser/.cache/huggingface/token\n",
      "Login successful\n"
     ]
    }
   ],
   "source": [
    "## code to auto login to hugging face, avoid the login prompt\n",
    "# %pip install huggingface-hub==0.16.4\n",
    "%pip install --upgrade huggingface-hub\n",
    "\n",
    "# get your account token from https://huggingface.co/settings/tokens\n",
    "# this is a read-only test token\n",
    "\n",
    "token = ''\n",
    "\n",
    "from huggingface_hub import login\n",
    "login(token=token, add_to_git_credential=True)"
   ]
  },
  {
   "cell_type": "markdown",
   "id": "374ef44c-9f78-42de-9535-a47b9f8b7889",
   "metadata": {},
   "source": [
    "### Install python libraries and applications\n",
    "\n",
    "Using % to ensure installation into this conda environment and not OS python"
   ]
  },
  {
   "cell_type": "code",
   "execution_count": 2,
   "id": "5ac77491-212f-450d-ae73-2448c3422379",
   "metadata": {},
   "outputs": [
    {
     "name": "stdout",
     "output_type": "stream",
     "text": [
      "Requirement already satisfied: accelerate in /home/demouser/miniconda3/envs/csv/lib/python3.10/site-packages (0.27.2)\n",
      "Requirement already satisfied: numpy>=1.17 in /home/demouser/miniconda3/envs/csv/lib/python3.10/site-packages (from accelerate) (1.26.4)\n",
      "Requirement already satisfied: packaging>=20.0 in /home/demouser/miniconda3/envs/csv/lib/python3.10/site-packages (from accelerate) (23.2)\n",
      "Requirement already satisfied: psutil in /home/demouser/miniconda3/envs/csv/lib/python3.10/site-packages (from accelerate) (5.9.8)\n",
      "Requirement already satisfied: pyyaml in /home/demouser/miniconda3/envs/csv/lib/python3.10/site-packages (from accelerate) (6.0.1)\n",
      "Requirement already satisfied: torch>=1.10.0 in /home/demouser/miniconda3/envs/csv/lib/python3.10/site-packages (from accelerate) (2.2.0)\n",
      "Requirement already satisfied: huggingface-hub in /home/demouser/miniconda3/envs/csv/lib/python3.10/site-packages (from accelerate) (0.20.3)\n",
      "Requirement already satisfied: safetensors>=0.3.1 in /home/demouser/miniconda3/envs/csv/lib/python3.10/site-packages (from accelerate) (0.4.2)\n",
      "Requirement already satisfied: filelock in /home/demouser/miniconda3/envs/csv/lib/python3.10/site-packages (from torch>=1.10.0->accelerate) (3.13.1)\n",
      "Requirement already satisfied: typing-extensions>=4.8.0 in /home/demouser/miniconda3/envs/csv/lib/python3.10/site-packages (from torch>=1.10.0->accelerate) (4.9.0)\n",
      "Requirement already satisfied: sympy in /home/demouser/miniconda3/envs/csv/lib/python3.10/site-packages (from torch>=1.10.0->accelerate) (1.12)\n",
      "Requirement already satisfied: networkx in /home/demouser/miniconda3/envs/csv/lib/python3.10/site-packages (from torch>=1.10.0->accelerate) (3.2.1)\n",
      "Requirement already satisfied: jinja2 in /home/demouser/miniconda3/envs/csv/lib/python3.10/site-packages (from torch>=1.10.0->accelerate) (3.1.3)\n",
      "Requirement already satisfied: fsspec in /home/demouser/miniconda3/envs/csv/lib/python3.10/site-packages (from torch>=1.10.0->accelerate) (2023.10.0)\n",
      "Requirement already satisfied: requests in /home/demouser/miniconda3/envs/csv/lib/python3.10/site-packages (from huggingface-hub->accelerate) (2.31.0)\n",
      "Requirement already satisfied: tqdm>=4.42.1 in /home/demouser/miniconda3/envs/csv/lib/python3.10/site-packages (from huggingface-hub->accelerate) (4.66.2)\n",
      "Requirement already satisfied: MarkupSafe>=2.0 in /home/demouser/miniconda3/envs/csv/lib/python3.10/site-packages (from jinja2->torch>=1.10.0->accelerate) (2.1.5)\n",
      "Requirement already satisfied: charset-normalizer<4,>=2 in /home/demouser/miniconda3/envs/csv/lib/python3.10/site-packages (from requests->huggingface-hub->accelerate) (3.3.2)\n",
      "Requirement already satisfied: idna<4,>=2.5 in /home/demouser/miniconda3/envs/csv/lib/python3.10/site-packages (from requests->huggingface-hub->accelerate) (3.6)\n",
      "Requirement already satisfied: urllib3<3,>=1.21.1 in /home/demouser/miniconda3/envs/csv/lib/python3.10/site-packages (from requests->huggingface-hub->accelerate) (2.2.1)\n",
      "Requirement already satisfied: certifi>=2017.4.17 in /home/demouser/miniconda3/envs/csv/lib/python3.10/site-packages (from requests->huggingface-hub->accelerate) (2024.2.2)\n",
      "Requirement already satisfied: mpmath>=0.19 in /home/demouser/miniconda3/envs/csv/lib/python3.10/site-packages (from sympy->torch>=1.10.0->accelerate) (1.3.0)\n",
      "Note: you may need to restart the kernel to use updated packages.\n",
      "Requirement already satisfied: transformers in /home/demouser/miniconda3/envs/csv/lib/python3.10/site-packages (4.37.2)\n",
      "Requirement already satisfied: filelock in /home/demouser/miniconda3/envs/csv/lib/python3.10/site-packages (from transformers) (3.13.1)\n",
      "Requirement already satisfied: huggingface-hub<1.0,>=0.19.3 in /home/demouser/miniconda3/envs/csv/lib/python3.10/site-packages (from transformers) (0.20.3)\n",
      "Requirement already satisfied: numpy>=1.17 in /home/demouser/miniconda3/envs/csv/lib/python3.10/site-packages (from transformers) (1.26.4)\n",
      "Requirement already satisfied: packaging>=20.0 in /home/demouser/miniconda3/envs/csv/lib/python3.10/site-packages (from transformers) (23.2)\n",
      "Requirement already satisfied: pyyaml>=5.1 in /home/demouser/miniconda3/envs/csv/lib/python3.10/site-packages (from transformers) (6.0.1)\n",
      "Requirement already satisfied: regex!=2019.12.17 in /home/demouser/miniconda3/envs/csv/lib/python3.10/site-packages (from transformers) (2023.12.25)\n",
      "Requirement already satisfied: requests in /home/demouser/miniconda3/envs/csv/lib/python3.10/site-packages (from transformers) (2.31.0)\n",
      "Requirement already satisfied: tokenizers<0.19,>=0.14 in /home/demouser/miniconda3/envs/csv/lib/python3.10/site-packages (from transformers) (0.15.2)\n",
      "Requirement already satisfied: safetensors>=0.4.1 in /home/demouser/miniconda3/envs/csv/lib/python3.10/site-packages (from transformers) (0.4.2)\n",
      "Requirement already satisfied: tqdm>=4.27 in /home/demouser/miniconda3/envs/csv/lib/python3.10/site-packages (from transformers) (4.66.2)\n",
      "Requirement already satisfied: fsspec>=2023.5.0 in /home/demouser/miniconda3/envs/csv/lib/python3.10/site-packages (from huggingface-hub<1.0,>=0.19.3->transformers) (2023.10.0)\n",
      "Requirement already satisfied: typing-extensions>=3.7.4.3 in /home/demouser/miniconda3/envs/csv/lib/python3.10/site-packages (from huggingface-hub<1.0,>=0.19.3->transformers) (4.9.0)\n",
      "Requirement already satisfied: charset-normalizer<4,>=2 in /home/demouser/miniconda3/envs/csv/lib/python3.10/site-packages (from requests->transformers) (3.3.2)\n",
      "Requirement already satisfied: idna<4,>=2.5 in /home/demouser/miniconda3/envs/csv/lib/python3.10/site-packages (from requests->transformers) (3.6)\n",
      "Requirement already satisfied: urllib3<3,>=1.21.1 in /home/demouser/miniconda3/envs/csv/lib/python3.10/site-packages (from requests->transformers) (2.2.1)\n",
      "Requirement already satisfied: certifi>=2017.4.17 in /home/demouser/miniconda3/envs/csv/lib/python3.10/site-packages (from requests->transformers) (2024.2.2)\n",
      "Note: you may need to restart the kernel to use updated packages.\n",
      "Requirement already satisfied: langchain==0.1.7 in /home/demouser/miniconda3/envs/csv/lib/python3.10/site-packages (0.1.7)\n",
      "Requirement already satisfied: PyYAML>=5.3 in /home/demouser/miniconda3/envs/csv/lib/python3.10/site-packages (from langchain==0.1.7) (6.0.1)\n",
      "Requirement already satisfied: SQLAlchemy<3,>=1.4 in /home/demouser/miniconda3/envs/csv/lib/python3.10/site-packages (from langchain==0.1.7) (2.0.27)\n",
      "Requirement already satisfied: aiohttp<4.0.0,>=3.8.3 in /home/demouser/miniconda3/envs/csv/lib/python3.10/site-packages (from langchain==0.1.7) (3.9.3)\n",
      "Requirement already satisfied: async-timeout<5.0.0,>=4.0.0 in /home/demouser/miniconda3/envs/csv/lib/python3.10/site-packages (from langchain==0.1.7) (4.0.3)\n",
      "Requirement already satisfied: dataclasses-json<0.7,>=0.5.7 in /home/demouser/miniconda3/envs/csv/lib/python3.10/site-packages (from langchain==0.1.7) (0.6.4)\n",
      "Requirement already satisfied: jsonpatch<2.0,>=1.33 in /home/demouser/miniconda3/envs/csv/lib/python3.10/site-packages (from langchain==0.1.7) (1.33)\n",
      "Requirement already satisfied: langchain-community<0.1,>=0.0.20 in /home/demouser/miniconda3/envs/csv/lib/python3.10/site-packages (from langchain==0.1.7) (0.0.20)\n",
      "Requirement already satisfied: langchain-core<0.2,>=0.1.22 in /home/demouser/miniconda3/envs/csv/lib/python3.10/site-packages (from langchain==0.1.7) (0.1.23)\n",
      "Requirement already satisfied: langsmith<0.1,>=0.0.83 in /home/demouser/miniconda3/envs/csv/lib/python3.10/site-packages (from langchain==0.1.7) (0.0.87)\n",
      "Requirement already satisfied: numpy<2,>=1 in /home/demouser/miniconda3/envs/csv/lib/python3.10/site-packages (from langchain==0.1.7) (1.26.4)\n",
      "Requirement already satisfied: pydantic<3,>=1 in /home/demouser/miniconda3/envs/csv/lib/python3.10/site-packages (from langchain==0.1.7) (2.6.1)\n",
      "Requirement already satisfied: requests<3,>=2 in /home/demouser/miniconda3/envs/csv/lib/python3.10/site-packages (from langchain==0.1.7) (2.31.0)\n",
      "Requirement already satisfied: tenacity<9.0.0,>=8.1.0 in /home/demouser/miniconda3/envs/csv/lib/python3.10/site-packages (from langchain==0.1.7) (8.2.3)\n",
      "Requirement already satisfied: aiosignal>=1.1.2 in /home/demouser/miniconda3/envs/csv/lib/python3.10/site-packages (from aiohttp<4.0.0,>=3.8.3->langchain==0.1.7) (1.3.1)\n",
      "Requirement already satisfied: attrs>=17.3.0 in /home/demouser/miniconda3/envs/csv/lib/python3.10/site-packages (from aiohttp<4.0.0,>=3.8.3->langchain==0.1.7) (23.2.0)\n",
      "Requirement already satisfied: frozenlist>=1.1.1 in /home/demouser/miniconda3/envs/csv/lib/python3.10/site-packages (from aiohttp<4.0.0,>=3.8.3->langchain==0.1.7) (1.4.1)\n",
      "Requirement already satisfied: multidict<7.0,>=4.5 in /home/demouser/miniconda3/envs/csv/lib/python3.10/site-packages (from aiohttp<4.0.0,>=3.8.3->langchain==0.1.7) (6.0.5)\n",
      "Requirement already satisfied: yarl<2.0,>=1.0 in /home/demouser/miniconda3/envs/csv/lib/python3.10/site-packages (from aiohttp<4.0.0,>=3.8.3->langchain==0.1.7) (1.9.4)\n",
      "Requirement already satisfied: marshmallow<4.0.0,>=3.18.0 in /home/demouser/miniconda3/envs/csv/lib/python3.10/site-packages (from dataclasses-json<0.7,>=0.5.7->langchain==0.1.7) (3.20.2)\n",
      "Requirement already satisfied: typing-inspect<1,>=0.4.0 in /home/demouser/miniconda3/envs/csv/lib/python3.10/site-packages (from dataclasses-json<0.7,>=0.5.7->langchain==0.1.7) (0.9.0)\n",
      "Requirement already satisfied: jsonpointer>=1.9 in /home/demouser/miniconda3/envs/csv/lib/python3.10/site-packages (from jsonpatch<2.0,>=1.33->langchain==0.1.7) (2.4)\n",
      "Requirement already satisfied: anyio<5,>=3 in /home/demouser/miniconda3/envs/csv/lib/python3.10/site-packages (from langchain-core<0.2,>=0.1.22->langchain==0.1.7) (4.3.0)\n",
      "Requirement already satisfied: packaging<24.0,>=23.2 in /home/demouser/miniconda3/envs/csv/lib/python3.10/site-packages (from langchain-core<0.2,>=0.1.22->langchain==0.1.7) (23.2)\n",
      "Requirement already satisfied: annotated-types>=0.4.0 in /home/demouser/miniconda3/envs/csv/lib/python3.10/site-packages (from pydantic<3,>=1->langchain==0.1.7) (0.6.0)\n",
      "Requirement already satisfied: pydantic-core==2.16.2 in /home/demouser/miniconda3/envs/csv/lib/python3.10/site-packages (from pydantic<3,>=1->langchain==0.1.7) (2.16.2)\n",
      "Requirement already satisfied: typing-extensions>=4.6.1 in /home/demouser/miniconda3/envs/csv/lib/python3.10/site-packages (from pydantic<3,>=1->langchain==0.1.7) (4.9.0)\n",
      "Requirement already satisfied: charset-normalizer<4,>=2 in /home/demouser/miniconda3/envs/csv/lib/python3.10/site-packages (from requests<3,>=2->langchain==0.1.7) (3.3.2)\n",
      "Requirement already satisfied: idna<4,>=2.5 in /home/demouser/miniconda3/envs/csv/lib/python3.10/site-packages (from requests<3,>=2->langchain==0.1.7) (3.6)\n",
      "Requirement already satisfied: urllib3<3,>=1.21.1 in /home/demouser/miniconda3/envs/csv/lib/python3.10/site-packages (from requests<3,>=2->langchain==0.1.7) (2.2.1)\n",
      "Requirement already satisfied: certifi>=2017.4.17 in /home/demouser/miniconda3/envs/csv/lib/python3.10/site-packages (from requests<3,>=2->langchain==0.1.7) (2024.2.2)\n",
      "Requirement already satisfied: greenlet!=0.4.17 in /home/demouser/miniconda3/envs/csv/lib/python3.10/site-packages (from SQLAlchemy<3,>=1.4->langchain==0.1.7) (3.0.3)\n",
      "Requirement already satisfied: sniffio>=1.1 in /home/demouser/miniconda3/envs/csv/lib/python3.10/site-packages (from anyio<5,>=3->langchain-core<0.2,>=0.1.22->langchain==0.1.7) (1.3.0)\n",
      "Requirement already satisfied: exceptiongroup>=1.0.2 in /home/demouser/miniconda3/envs/csv/lib/python3.10/site-packages (from anyio<5,>=3->langchain-core<0.2,>=0.1.22->langchain==0.1.7) (1.2.0)\n",
      "Requirement already satisfied: mypy-extensions>=0.3.0 in /home/demouser/miniconda3/envs/csv/lib/python3.10/site-packages (from typing-inspect<1,>=0.4.0->dataclasses-json<0.7,>=0.5.7->langchain==0.1.7) (1.0.0)\n",
      "Note: you may need to restart the kernel to use updated packages.\n",
      "Requirement already satisfied: langchain_experimental==0.0.51 in /home/demouser/miniconda3/envs/csv/lib/python3.10/site-packages (0.0.51)\n",
      "Requirement already satisfied: langchain<0.2.0,>=0.1.5 in /home/demouser/miniconda3/envs/csv/lib/python3.10/site-packages (from langchain_experimental==0.0.51) (0.1.7)\n",
      "Requirement already satisfied: langchain-core<0.2.0,>=0.1.16 in /home/demouser/miniconda3/envs/csv/lib/python3.10/site-packages (from langchain_experimental==0.0.51) (0.1.23)\n",
      "Requirement already satisfied: PyYAML>=5.3 in /home/demouser/miniconda3/envs/csv/lib/python3.10/site-packages (from langchain<0.2.0,>=0.1.5->langchain_experimental==0.0.51) (6.0.1)\n",
      "Requirement already satisfied: SQLAlchemy<3,>=1.4 in /home/demouser/miniconda3/envs/csv/lib/python3.10/site-packages (from langchain<0.2.0,>=0.1.5->langchain_experimental==0.0.51) (2.0.27)\n",
      "Requirement already satisfied: aiohttp<4.0.0,>=3.8.3 in /home/demouser/miniconda3/envs/csv/lib/python3.10/site-packages (from langchain<0.2.0,>=0.1.5->langchain_experimental==0.0.51) (3.9.3)\n",
      "Requirement already satisfied: async-timeout<5.0.0,>=4.0.0 in /home/demouser/miniconda3/envs/csv/lib/python3.10/site-packages (from langchain<0.2.0,>=0.1.5->langchain_experimental==0.0.51) (4.0.3)\n",
      "Requirement already satisfied: dataclasses-json<0.7,>=0.5.7 in /home/demouser/miniconda3/envs/csv/lib/python3.10/site-packages (from langchain<0.2.0,>=0.1.5->langchain_experimental==0.0.51) (0.6.4)\n",
      "Requirement already satisfied: jsonpatch<2.0,>=1.33 in /home/demouser/miniconda3/envs/csv/lib/python3.10/site-packages (from langchain<0.2.0,>=0.1.5->langchain_experimental==0.0.51) (1.33)\n",
      "Requirement already satisfied: langchain-community<0.1,>=0.0.20 in /home/demouser/miniconda3/envs/csv/lib/python3.10/site-packages (from langchain<0.2.0,>=0.1.5->langchain_experimental==0.0.51) (0.0.20)\n",
      "Requirement already satisfied: langsmith<0.1,>=0.0.83 in /home/demouser/miniconda3/envs/csv/lib/python3.10/site-packages (from langchain<0.2.0,>=0.1.5->langchain_experimental==0.0.51) (0.0.87)\n",
      "Requirement already satisfied: numpy<2,>=1 in /home/demouser/miniconda3/envs/csv/lib/python3.10/site-packages (from langchain<0.2.0,>=0.1.5->langchain_experimental==0.0.51) (1.26.4)\n",
      "Requirement already satisfied: pydantic<3,>=1 in /home/demouser/miniconda3/envs/csv/lib/python3.10/site-packages (from langchain<0.2.0,>=0.1.5->langchain_experimental==0.0.51) (2.6.1)\n",
      "Requirement already satisfied: requests<3,>=2 in /home/demouser/miniconda3/envs/csv/lib/python3.10/site-packages (from langchain<0.2.0,>=0.1.5->langchain_experimental==0.0.51) (2.31.0)\n",
      "Requirement already satisfied: tenacity<9.0.0,>=8.1.0 in /home/demouser/miniconda3/envs/csv/lib/python3.10/site-packages (from langchain<0.2.0,>=0.1.5->langchain_experimental==0.0.51) (8.2.3)\n",
      "Requirement already satisfied: anyio<5,>=3 in /home/demouser/miniconda3/envs/csv/lib/python3.10/site-packages (from langchain-core<0.2.0,>=0.1.16->langchain_experimental==0.0.51) (4.3.0)\n",
      "Requirement already satisfied: packaging<24.0,>=23.2 in /home/demouser/miniconda3/envs/csv/lib/python3.10/site-packages (from langchain-core<0.2.0,>=0.1.16->langchain_experimental==0.0.51) (23.2)\n",
      "Requirement already satisfied: aiosignal>=1.1.2 in /home/demouser/miniconda3/envs/csv/lib/python3.10/site-packages (from aiohttp<4.0.0,>=3.8.3->langchain<0.2.0,>=0.1.5->langchain_experimental==0.0.51) (1.3.1)\n",
      "Requirement already satisfied: attrs>=17.3.0 in /home/demouser/miniconda3/envs/csv/lib/python3.10/site-packages (from aiohttp<4.0.0,>=3.8.3->langchain<0.2.0,>=0.1.5->langchain_experimental==0.0.51) (23.2.0)\n",
      "Requirement already satisfied: frozenlist>=1.1.1 in /home/demouser/miniconda3/envs/csv/lib/python3.10/site-packages (from aiohttp<4.0.0,>=3.8.3->langchain<0.2.0,>=0.1.5->langchain_experimental==0.0.51) (1.4.1)\n",
      "Requirement already satisfied: multidict<7.0,>=4.5 in /home/demouser/miniconda3/envs/csv/lib/python3.10/site-packages (from aiohttp<4.0.0,>=3.8.3->langchain<0.2.0,>=0.1.5->langchain_experimental==0.0.51) (6.0.5)\n",
      "Requirement already satisfied: yarl<2.0,>=1.0 in /home/demouser/miniconda3/envs/csv/lib/python3.10/site-packages (from aiohttp<4.0.0,>=3.8.3->langchain<0.2.0,>=0.1.5->langchain_experimental==0.0.51) (1.9.4)\n",
      "Requirement already satisfied: idna>=2.8 in /home/demouser/miniconda3/envs/csv/lib/python3.10/site-packages (from anyio<5,>=3->langchain-core<0.2.0,>=0.1.16->langchain_experimental==0.0.51) (3.6)\n",
      "Requirement already satisfied: sniffio>=1.1 in /home/demouser/miniconda3/envs/csv/lib/python3.10/site-packages (from anyio<5,>=3->langchain-core<0.2.0,>=0.1.16->langchain_experimental==0.0.51) (1.3.0)\n",
      "Requirement already satisfied: exceptiongroup>=1.0.2 in /home/demouser/miniconda3/envs/csv/lib/python3.10/site-packages (from anyio<5,>=3->langchain-core<0.2.0,>=0.1.16->langchain_experimental==0.0.51) (1.2.0)\n",
      "Requirement already satisfied: typing-extensions>=4.1 in /home/demouser/miniconda3/envs/csv/lib/python3.10/site-packages (from anyio<5,>=3->langchain-core<0.2.0,>=0.1.16->langchain_experimental==0.0.51) (4.9.0)\n",
      "Requirement already satisfied: marshmallow<4.0.0,>=3.18.0 in /home/demouser/miniconda3/envs/csv/lib/python3.10/site-packages (from dataclasses-json<0.7,>=0.5.7->langchain<0.2.0,>=0.1.5->langchain_experimental==0.0.51) (3.20.2)\n",
      "Requirement already satisfied: typing-inspect<1,>=0.4.0 in /home/demouser/miniconda3/envs/csv/lib/python3.10/site-packages (from dataclasses-json<0.7,>=0.5.7->langchain<0.2.0,>=0.1.5->langchain_experimental==0.0.51) (0.9.0)\n",
      "Requirement already satisfied: jsonpointer>=1.9 in /home/demouser/miniconda3/envs/csv/lib/python3.10/site-packages (from jsonpatch<2.0,>=1.33->langchain<0.2.0,>=0.1.5->langchain_experimental==0.0.51) (2.4)\n",
      "Requirement already satisfied: annotated-types>=0.4.0 in /home/demouser/miniconda3/envs/csv/lib/python3.10/site-packages (from pydantic<3,>=1->langchain<0.2.0,>=0.1.5->langchain_experimental==0.0.51) (0.6.0)\n",
      "Requirement already satisfied: pydantic-core==2.16.2 in /home/demouser/miniconda3/envs/csv/lib/python3.10/site-packages (from pydantic<3,>=1->langchain<0.2.0,>=0.1.5->langchain_experimental==0.0.51) (2.16.2)\n",
      "Requirement already satisfied: charset-normalizer<4,>=2 in /home/demouser/miniconda3/envs/csv/lib/python3.10/site-packages (from requests<3,>=2->langchain<0.2.0,>=0.1.5->langchain_experimental==0.0.51) (3.3.2)\n",
      "Requirement already satisfied: urllib3<3,>=1.21.1 in /home/demouser/miniconda3/envs/csv/lib/python3.10/site-packages (from requests<3,>=2->langchain<0.2.0,>=0.1.5->langchain_experimental==0.0.51) (2.2.1)\n",
      "Requirement already satisfied: certifi>=2017.4.17 in /home/demouser/miniconda3/envs/csv/lib/python3.10/site-packages (from requests<3,>=2->langchain<0.2.0,>=0.1.5->langchain_experimental==0.0.51) (2024.2.2)\n",
      "Requirement already satisfied: greenlet!=0.4.17 in /home/demouser/miniconda3/envs/csv/lib/python3.10/site-packages (from SQLAlchemy<3,>=1.4->langchain<0.2.0,>=0.1.5->langchain_experimental==0.0.51) (3.0.3)\n",
      "Requirement already satisfied: mypy-extensions>=0.3.0 in /home/demouser/miniconda3/envs/csv/lib/python3.10/site-packages (from typing-inspect<1,>=0.4.0->dataclasses-json<0.7,>=0.5.7->langchain<0.2.0,>=0.1.5->langchain_experimental==0.0.51) (1.0.0)\n",
      "Note: you may need to restart the kernel to use updated packages.\n",
      "Requirement already satisfied: matplotlib in /home/demouser/miniconda3/envs/csv/lib/python3.10/site-packages (3.8.3)\n",
      "Requirement already satisfied: contourpy>=1.0.1 in /home/demouser/miniconda3/envs/csv/lib/python3.10/site-packages (from matplotlib) (1.2.0)\n",
      "Requirement already satisfied: cycler>=0.10 in /home/demouser/miniconda3/envs/csv/lib/python3.10/site-packages (from matplotlib) (0.12.1)\n",
      "Requirement already satisfied: fonttools>=4.22.0 in /home/demouser/miniconda3/envs/csv/lib/python3.10/site-packages (from matplotlib) (4.49.0)\n",
      "Requirement already satisfied: kiwisolver>=1.3.1 in /home/demouser/miniconda3/envs/csv/lib/python3.10/site-packages (from matplotlib) (1.4.5)\n",
      "Requirement already satisfied: numpy<2,>=1.21 in /home/demouser/miniconda3/envs/csv/lib/python3.10/site-packages (from matplotlib) (1.26.4)\n",
      "Requirement already satisfied: packaging>=20.0 in /home/demouser/miniconda3/envs/csv/lib/python3.10/site-packages (from matplotlib) (23.2)\n",
      "Requirement already satisfied: pillow>=8 in /home/demouser/miniconda3/envs/csv/lib/python3.10/site-packages (from matplotlib) (9.4.0)\n",
      "Requirement already satisfied: pyparsing>=2.3.1 in /home/demouser/miniconda3/envs/csv/lib/python3.10/site-packages (from matplotlib) (3.1.1)\n",
      "Requirement already satisfied: python-dateutil>=2.7 in /home/demouser/miniconda3/envs/csv/lib/python3.10/site-packages (from matplotlib) (2.8.2)\n",
      "Requirement already satisfied: six>=1.5 in /home/demouser/miniconda3/envs/csv/lib/python3.10/site-packages (from python-dateutil>=2.7->matplotlib) (1.16.0)\n",
      "Note: you may need to restart the kernel to use updated packages.\n"
     ]
    }
   ],
   "source": [
    "%pip install accelerate  ## for use of device map feature\n",
    "%pip install transformers\n",
    "%pip install langchain==0.1.7\n",
    "%pip install langchain_experimental==0.0.51\n",
    "%pip install matplotlib"
   ]
  },
  {
   "cell_type": "code",
   "execution_count": 3,
   "id": "1b1132dd-4463-45fe-997f-2136c13464af",
   "metadata": {},
   "outputs": [],
   "source": [
    "### Check installed GPU"
   ]
  },
  {
   "cell_type": "code",
   "execution_count": 4,
   "id": "0a0a0592-b751-4f5c-b97c-5cd12e8baef7",
   "metadata": {},
   "outputs": [
    {
     "name": "stdout",
     "output_type": "stream",
     "text": [
      "Tue Feb 20 15:58:00 2024       \n",
      "+---------------------------------------------------------------------------------------+\n",
      "| NVIDIA-SMI 535.154.05             Driver Version: 535.154.05   CUDA Version: 12.2     |\n",
      "|-----------------------------------------+----------------------+----------------------+\n",
      "| GPU  Name                 Persistence-M | Bus-Id        Disp.A | Volatile Uncorr. ECC |\n",
      "| Fan  Temp   Perf          Pwr:Usage/Cap |         Memory-Usage | GPU-Util  Compute M. |\n",
      "|                                         |                      |               MIG M. |\n",
      "|=========================================+======================+======================|\n",
      "|   0  NVIDIA H100 PCIe               Off | 00000000:0D:00.0 Off |                    0 |\n",
      "| N/A   47C    P0              83W / 350W |   1925MiB / 81559MiB |      0%      Default |\n",
      "|                                         |                      |             Disabled |\n",
      "+-----------------------------------------+----------------------+----------------------+\n",
      "|   1  NVIDIA L40S                    Off | 00000000:B5:00.0 Off |                    0 |\n",
      "| N/A   47C    P0             248W / 350W |  41538MiB / 46068MiB |     99%      Default |\n",
      "|                                         |                      |                  N/A |\n",
      "+-----------------------------------------+----------------------+----------------------+\n",
      "                                                                                         \n",
      "+---------------------------------------------------------------------------------------+\n",
      "| Processes:                                                                            |\n",
      "|  GPU   GI   CI        PID   Type   Process name                            GPU Memory |\n",
      "|        ID   ID                                                             Usage      |\n",
      "|=======================================================================================|\n",
      "|    0   N/A  N/A    410863      C   /usr/bin/python3                           1916MiB |\n",
      "|    1   N/A  N/A    411508      C   /opt/tritonserver/bin/tritonserver        41532MiB |\n",
      "+---------------------------------------------------------------------------------------+\n"
     ]
    }
   ],
   "source": [
    "!nvidia-smi"
   ]
  },
  {
   "cell_type": "markdown",
   "id": "3dbb3e4a-af6a-4852-98a0-97afaff2924c",
   "metadata": {},
   "source": [
    "### Assign GPU environment vars and ID order\n",
    "\n",
    "NOTE:  to change which GPU you want visible, simply change the CUDA VISIBLE DEVICES ID to the GPU you prefer. \n",
    "This method guarantees no confusion or misplaced workloads on any GPUs."
   ]
  },
  {
   "cell_type": "code",
   "execution_count": 5,
   "id": "88bf410b-3b71-4299-8bc9-0b6fb09f4482",
   "metadata": {},
   "outputs": [],
   "source": [
    "## THESE VARIABLES MUST APPEAR BEFORE TORCH OR CUDA IS IMPORTED\n",
    "## set visible GPU devices and order of IDs to the PCI bus order\n",
    "## target the L40s that is on ID 1\n",
    "\n",
    "import os\n",
    "os.environ[\"CUDA_VISIBLE_DEVICES\"]=\"0\"   \n",
    "\n",
    "## this integer corresponds to the ID of the GPU, for multiple GPU use \"0,1,2,3\"...\n",
    "## to disable all GPUs, simply put empty quotes \"\"\n",
    "\n",
    "os.environ[\"CUDA_DEVICE_ORDER\"]=\"PCI_BUS_ID\""
   ]
  },
  {
   "cell_type": "markdown",
   "id": "3846fa67-69d7-478e-995e-d16a5ba98f72",
   "metadata": {},
   "source": [
    "### Investigate our GPU and CUDA environment\n",
    "\n",
    "NOTE:  If you are only using 1 single GPU in the visibility settings above, then the active CUDA device will always be 0 since it is the only GPU seen."
   ]
  },
  {
   "cell_type": "code",
   "execution_count": 6,
   "id": "eaec1edd-9c18-4b1f-a0e8-e3ed03b3141f",
   "metadata": {},
   "outputs": [
    {
     "name": "stdout",
     "output_type": "stream",
     "text": [
      "_____Python, Pytorch, Cuda info____\n",
      "__Python VERSION: 3.10.13 | packaged by conda-forge | (main, Dec 23 2023, 15:36:39) [GCC 12.3.0]\n",
      "__pyTorch VERSION: 2.2.0\n",
      "__CUDA RUNTIME API VERSION\n",
      "__CUDNN VERSION: 8902\n",
      "_____nvidia-smi GPU details____\n",
      "index, name, driver_version, memory.total [MiB], memory.used [MiB], memory.free [MiB]\n",
      "0, NVIDIA H100 PCIe, 535.154.05, 81559 MiB, 1925 MiB, 79082 MiB\n",
      "1, NVIDIA L40S, 535.154.05, 46068 MiB, 41538 MiB, 4057 MiB\n",
      "_____Device assignments____\n",
      "Number CUDA Devices: 1\n",
      "Current cuda device:  0  **May not correspond to nvidia-smi ID above, check visibility parameter\n",
      "Device name:  NVIDIA H100 PCIe\n"
     ]
    }
   ],
   "source": [
    "import torch\n",
    "import sys\n",
    "import os\n",
    "from subprocess import call\n",
    "print('_____Python, Pytorch, Cuda info____')\n",
    "print('__Python VERSION:', sys.version)\n",
    "print('__pyTorch VERSION:', torch.__version__)\n",
    "print('__CUDA RUNTIME API VERSION')\n",
    "#os.system('nvcc --version')\n",
    "print('__CUDNN VERSION:', torch.backends.cudnn.version())\n",
    "print('_____nvidia-smi GPU details____')\n",
    "call([\"nvidia-smi\", \"--format=csv\", \"--query-gpu=index,name,driver_version,memory.total,memory.used,memory.free\"])\n",
    "print('_____Device assignments____')\n",
    "print('Number CUDA Devices:', torch.cuda.device_count())\n",
    "print ('Current cuda device: ', torch.cuda.current_device(), ' **May not correspond to nvidia-smi ID above, check visibility parameter')\n",
    "print(\"Device name: \", torch.cuda.get_device_name(torch.cuda.current_device()))"
   ]
  },
  {
   "cell_type": "markdown",
   "id": "82bae0d5-b6ef-425b-9e29-13393a839bcf",
   "metadata": {},
   "source": [
    "### Assign single GPU to device variable\n",
    "\n",
    "This command assigns GPU ID 0 to the DEVICE variable called \"cuda:0\" if pytorch can actually reach and speak with the GPU using cuda language.  Else it will use the cpu."
   ]
  },
  {
   "cell_type": "code",
   "execution_count": 7,
   "id": "c26efcc3-328c-49fe-9fe6-bbdbec423b47",
   "metadata": {},
   "outputs": [
    {
     "name": "stdout",
     "output_type": "stream",
     "text": [
      "cuda\n"
     ]
    }
   ],
   "source": [
    "DEVICE = \"cuda\" if torch.cuda.is_available() else \"cpu\"\n",
    "print(DEVICE)"
   ]
  },
  {
   "cell_type": "markdown",
   "id": "cc64b727-3bae-4f17-a0b9-35a29915b2df",
   "metadata": {},
   "source": [
    "### View csv contents and structure"
   ]
  },
  {
   "cell_type": "code",
   "execution_count": 8,
   "id": "4f9d50b3-3770-4b8e-abe6-37f4997cd6bf",
   "metadata": {},
   "outputs": [],
   "source": [
    "import pandas as pd\n",
    "df = pd.read_csv('csv-files/healthcare.csv')"
   ]
  },
  {
   "cell_type": "code",
   "execution_count": 9,
   "id": "ad16fefb-1399-47b0-a7e6-6a55be010f63",
   "metadata": {},
   "outputs": [
    {
     "name": "stdout",
     "output_type": "stream",
     "text": [
      "  Patient Name Date of Birth  Age Reason for Admission       Procedure  \\\n",
      "0    Patient_3      8/6/2004   19                COVID  antiviral meds   \n",
      "1   Patient_39     3/19/2004   19                COVID  oxygen therapy   \n",
      "2   Patient_33     12/8/2002   21                COVID  oxygen therapy   \n",
      "\n",
      "       Room Date of Discharge  Length of Stay   Charges  Balance Remaining  \n",
      "0  Room_237        12/27/2023               0    237.34              37.34  \n",
      "1  Room_440         1/12/2024              22  29980.84            3018.84  \n",
      "2  Room_298        12/31/2023               6   4028.77            2681.26  \n"
     ]
    }
   ],
   "source": [
    "df_rows = df.head(3)\n",
    "print(df_rows)"
   ]
  },
  {
   "cell_type": "markdown",
   "id": "1afe93d0-0641-4a57-8efb-bb8a4941dfdc",
   "metadata": {},
   "source": [
    "### Import CSV agent dependencies"
   ]
  },
  {
   "cell_type": "code",
   "execution_count": 10,
   "id": "76ae7daa-2150-4880-82c5-4046a8a5ce95",
   "metadata": {},
   "outputs": [],
   "source": [
    "import transformers\n",
    "from langchain_experimental.agents.agent_toolkits import create_csv_agent\n",
    "from langchain.llms import HuggingFacePipeline\n",
    "from tqdm import tqdm\n",
    "import time"
   ]
  },
  {
   "cell_type": "code",
   "execution_count": 11,
   "id": "f02c7468-c1e5-4553-8573-4eca197c4f2c",
   "metadata": {},
   "outputs": [],
   "source": [
    "# from langchain.globals import set_verbose, set_debug\n",
    "# set_debug(True)\n",
    "# set_verbose(True)"
   ]
  },
  {
   "cell_type": "markdown",
   "id": "281d086e-cc14-4635-b466-f02637bb80c6",
   "metadata": {},
   "source": [
    "### Set model parameters"
   ]
  },
  {
   "cell_type": "code",
   "execution_count": 12,
   "id": "a9ecb659-43a1-49fd-9bcd-ddf0e128b8a8",
   "metadata": {},
   "outputs": [],
   "source": [
    "model_id = \"mistralai/Mistral-7B-Instruct-v0.2\""
   ]
  },
  {
   "cell_type": "code",
   "execution_count": 13,
   "id": "cf2bce85-0888-44a0-ac76-27e027c7c40a",
   "metadata": {},
   "outputs": [],
   "source": [
    "tokenizer = transformers.AutoTokenizer.from_pretrained(model_id)"
   ]
  },
  {
   "cell_type": "code",
   "execution_count": 14,
   "id": "b85df2ef-09b6-4427-8f84-90aafd3d19c8",
   "metadata": {},
   "outputs": [
    {
     "data": {
      "application/vnd.jupyter.widget-view+json": {
       "model_id": "ae42eb2f1e41408689d0eba311e67bfd",
       "version_major": 2,
       "version_minor": 0
      },
      "text/plain": [
       "Loading checkpoint shards:   0%|          | 0/3 [00:00<?, ?it/s]"
      ]
     },
     "metadata": {},
     "output_type": "display_data"
    }
   ],
   "source": [
    "pipeline = transformers.pipeline(\n",
    "    \"text-generation\",\n",
    "    model=model_id,\n",
    "    tokenizer=tokenizer,\n",
    "    torch_dtype=torch.bfloat16,\n",
    "    device_map=\"auto\",\n",
    "    max_new_tokens=500\n",
    ")"
   ]
  },
  {
   "cell_type": "code",
   "execution_count": 15,
   "id": "4c127e37-8966-4e22-95a0-029a4dc56a9f",
   "metadata": {},
   "outputs": [],
   "source": [
    "local_llm = HuggingFacePipeline(pipeline=pipeline)"
   ]
  },
  {
   "cell_type": "markdown",
   "id": "1be1e379-f815-4d8d-829f-74209644a401",
   "metadata": {},
   "source": [
    "### Initiate CSV agent"
   ]
  },
  {
   "cell_type": "code",
   "execution_count": 16,
   "id": "b14f21f5-b9ca-4fea-9c3c-7905d52d55e5",
   "metadata": {},
   "outputs": [],
   "source": [
    "agent = create_csv_agent(\n",
    "    local_llm,\n",
    "    \"csv-files/healthcare.csv\",\n",
    "    verbose=True,\n",
    "#    agent_type=AgentType.ZERO_SHOT_REACT_DESCRIPTION,\n",
    ")"
   ]
  },
  {
   "cell_type": "markdown",
   "id": "ece424c3-875a-4e5c-be01-8d1913bb06ca",
   "metadata": {},
   "source": [
    "### Generate responses"
   ]
  },
  {
   "cell_type": "code",
   "execution_count": 17,
   "id": "fdbbb292-6242-4559-852a-c6cc45f9ace9",
   "metadata": {},
   "outputs": [
    {
     "name": "stderr",
     "output_type": "stream",
     "text": [
      "Setting `pad_token_id` to `eos_token_id`:2 for open-end generation.\n"
     ]
    },
    {
     "name": "stdout",
     "output_type": "stream",
     "text": [
      "\n",
      "\n",
      "\u001b[1m> Entering new AgentExecutor chain...\u001b[0m\n"
     ]
    },
    {
     "name": "stderr",
     "output_type": "stream",
     "text": [
      "Setting `pad_token_id` to `eos_token_id`:2 for open-end generation.\n"
     ]
    },
    {
     "name": "stdout",
     "output_type": "stream",
     "text": [
      "\u001b[32;1m\u001b[1;3mThought: I need to find the row in the dataframe that corresponds to patient 3 and then extract the procedure column for that row.\n",
      "Action: python_repl_ast\n",
      "Action Input: df.loc[df['Patient Name'] == 'Patient_3', 'Procedure'].values[0]\u001b[0m\u001b[36;1m\u001b[1;3mantiviral meds\u001b[0m\u001b[32;1m\u001b[1;3m I now know the final answer\n",
      "Final Answer: The procedure for patient 3 was antiviral meds.\u001b[0m\n",
      "\n",
      "\u001b[1m> Finished chain.\u001b[0m\n",
      "{'input': 'What was the procedure for patient 3?', 'output': 'The procedure for patient 3 was antiviral meds.'}\n"
     ]
    }
   ],
   "source": [
    "res = agent.invoke(\"What was the procedure for patient 3?\")\n",
    "print(res)"
   ]
  },
  {
   "cell_type": "markdown",
   "id": "f75466a3-381e-4edc-824a-e8f182026256",
   "metadata": {},
   "source": [
    "##### Compare to correct answer:  antiviral meds"
   ]
  },
  {
   "cell_type": "code",
   "execution_count": 18,
   "id": "1624664a-c9a3-49ae-b471-eef40280653c",
   "metadata": {},
   "outputs": [
    {
     "name": "stderr",
     "output_type": "stream",
     "text": [
      "Setting `pad_token_id` to `eos_token_id`:2 for open-end generation.\n"
     ]
    },
    {
     "name": "stdout",
     "output_type": "stream",
     "text": [
      "\n",
      "\n",
      "\u001b[1m> Entering new AgentExecutor chain...\u001b[0m\n"
     ]
    },
    {
     "name": "stderr",
     "output_type": "stream",
     "text": [
      "Setting `pad_token_id` to `eos_token_id`:2 for open-end generation.\n"
     ]
    },
    {
     "name": "stdout",
     "output_type": "stream",
     "text": [
      "\u001b[32;1m\u001b[1;3mThought: I need to find the row where the patient number is 21. Then I can extract the date of discharge and length of stay from that row.\n",
      "Action: python_repl_ast\n",
      "Action Input: df[df['Patient Name'] == 'Patient_21'].iloc[0]['Date of Discharge']\u001b[0m\u001b[36;1m\u001b[1;3m11/15/2023\u001b[0m"
     ]
    },
    {
     "name": "stderr",
     "output_type": "stream",
     "text": [
      "Setting `pad_token_id` to `eos_token_id`:2 for open-end generation.\n"
     ]
    },
    {
     "name": "stdout",
     "output_type": "stream",
     "text": [
      "\u001b[32;1m\u001b[1;3m I also need to find the length of stay for patient 21.\n",
      "Action: python_repl_ast\n",
      "Action Input: df[df['Patient Name'] == 'Patient_21'].iloc[0]['Length of Stay']\u001b[0m\u001b[36;1m\u001b[1;3m18\u001b[0m\u001b[32;1m\u001b[1;3m I now know the final answer.\n",
      "Final Answer: The date of discharge for patient 21 was 11/15/2023 and the length of stay was 18 days.\u001b[0m\n",
      "\n",
      "\u001b[1m> Finished chain.\u001b[0m\n",
      "{'input': 'What was date of discharge and length of stay for patient 21?', 'output': 'The date of discharge for patient 21 was 11/15/2023 and the length of stay was 18 days.'}\n"
     ]
    }
   ],
   "source": [
    "res = agent.invoke(\"What was date of discharge and length of stay for patient 21?\")\n",
    "print(res)"
   ]
  },
  {
   "cell_type": "markdown",
   "id": "d02bf661-f6ac-493f-b65c-da697be1f423",
   "metadata": {},
   "source": [
    "##### Compare to correct answer:  11/15/2023 and the length of stay was 18 days"
   ]
  },
  {
   "cell_type": "code",
   "execution_count": 19,
   "id": "8737bedf-cdc7-4431-a199-69e0f0d8f40b",
   "metadata": {},
   "outputs": [
    {
     "name": "stderr",
     "output_type": "stream",
     "text": [
      "Setting `pad_token_id` to `eos_token_id`:2 for open-end generation.\n"
     ]
    },
    {
     "name": "stdout",
     "output_type": "stream",
     "text": [
      "\n",
      "\n",
      "\u001b[1m> Entering new AgentExecutor chain...\u001b[0m\n"
     ]
    },
    {
     "name": "stderr",
     "output_type": "stream",
     "text": [
      "Setting `pad_token_id` to `eos_token_id`:2 for open-end generation.\n"
     ]
    },
    {
     "name": "stdout",
     "output_type": "stream",
     "text": [
      "\u001b[32;1m\u001b[1;3mThought: I need to find the unique reasons for admission from the dataframe.\n",
      "Action: python_repl_ast\n",
      "Action Input: df['Reason for Admission'].unique()\u001b[0m\u001b[36;1m\u001b[1;3m['COVID' 'Flu' 'Pneumonia' 'Heart attack' 'Stroke']\u001b[0m\u001b[32;1m\u001b[1;3m I now know the final answer.\n",
      "Final Answer: ['COVID', 'Flu', 'Pneumonia', 'Heart attack', 'Stroke']\u001b[0m\n",
      "\n",
      "\u001b[1m> Finished chain.\u001b[0m\n",
      "{'input': 'What are the unique reasons for admission?', 'output': \"['COVID', 'Flu', 'Pneumonia', 'Heart attack', 'Stroke']\"}\n"
     ]
    }
   ],
   "source": [
    "res = agent.invoke(\"What are the unique reasons for admission?\")\n",
    "print(res)"
   ]
  },
  {
   "cell_type": "markdown",
   "id": "8db7aba0-f5ac-4831-826b-399934ef0198",
   "metadata": {},
   "source": [
    "##### Compare to correct answer:  COVID', 'Flu', 'Pneumonia', 'Heart attack', 'Stroke"
   ]
  },
  {
   "cell_type": "code",
   "execution_count": 20,
   "id": "67868a33-aed3-4fc9-829c-07e92529247f",
   "metadata": {},
   "outputs": [
    {
     "name": "stderr",
     "output_type": "stream",
     "text": [
      "Setting `pad_token_id` to `eos_token_id`:2 for open-end generation.\n"
     ]
    },
    {
     "name": "stdout",
     "output_type": "stream",
     "text": [
      "\n",
      "\n",
      "\u001b[1m> Entering new AgentExecutor chain...\u001b[0m\n"
     ]
    },
    {
     "name": "stderr",
     "output_type": "stream",
     "text": [
      "Setting `pad_token_id` to `eos_token_id`:2 for open-end generation.\n"
     ]
    },
    {
     "name": "stdout",
     "output_type": "stream",
     "text": [
      "\u001b[32;1m\u001b[1;3mThought: I need to group the dataframe by the reason for admission and then find the maximum charges for each group.\n",
      "Action: python_repl_ast\n",
      "Action Input: df.groupby('Reason for Admission')['Charges'].max()\u001b[0m\u001b[36;1m\u001b[1;3mReason for Admission\n",
      "COVID           29980.84\n",
      "Flu              9890.30\n",
      "Heart attack    15440.26\n",
      "Pneumonia        7820.46\n",
      "Stroke           8475.26\n",
      "Name: Charges, dtype: float64\u001b[0m\u001b[32;1m\u001b[1;3m I now know the final answer.\n",
      "Final Answer: The reason for admission with the highest cost was COVID, with a total cost of 29,980.84.\u001b[0m\n",
      "\n",
      "\u001b[1m> Finished chain.\u001b[0m\n",
      "{'input': 'Cross reference the charges with the reason for admission to determine which reason had the highest cost.', 'output': 'The reason for admission with the highest cost was COVID, with a total cost of 29,980.84.'}\n"
     ]
    }
   ],
   "source": [
    "res = agent.invoke(\"Cross reference the charges with the reason for admission to determine which reason had the highest cost.\")\n",
    "print(res)"
   ]
  },
  {
   "cell_type": "markdown",
   "id": "dab652d1-5b5f-446d-abb5-71a0153af2d5",
   "metadata": {},
   "source": [
    "##### Correct answer:  highest cost was COVID, with a total cost of 29980.84"
   ]
  },
  {
   "cell_type": "code",
   "execution_count": 21,
   "id": "85e7624f-b407-41f8-b30f-01f8bfe91c56",
   "metadata": {},
   "outputs": [
    {
     "name": "stderr",
     "output_type": "stream",
     "text": [
      "Setting `pad_token_id` to `eos_token_id`:2 for open-end generation.\n"
     ]
    },
    {
     "name": "stdout",
     "output_type": "stream",
     "text": [
      "\n",
      "\n",
      "\u001b[1m> Entering new AgentExecutor chain...\u001b[0m\n"
     ]
    },
    {
     "name": "stderr",
     "output_type": "stream",
     "text": [
      "/home/demouser/miniconda3/envs/csv/lib/python3.10/site-packages/transformers/pipelines/base.py:1123: UserWarning: You seem to be using the pipelines sequentially on GPU. In order to maximize efficiency please use a dataset\n",
      "  warnings.warn(\n",
      "Setting `pad_token_id` to `eos_token_id`:2 for open-end generation.\n"
     ]
    },
    {
     "name": "stdout",
     "output_type": "stream",
     "text": [
      "\u001b[32;1m\u001b[1;3mThought: I need to find the top three most costly procedures in the dataframe.\n",
      "Action: df.groupby('Procedure')['Charges'].sum().nlargest(3)\n",
      "Action Input:\u001b[0mdf.groupby('Procedure')['Charges'].sum().nlargest(3) is not a valid tool, try one of [python_repl_ast]."
     ]
    },
    {
     "name": "stderr",
     "output_type": "stream",
     "text": [
      "/home/demouser/miniconda3/envs/csv/lib/python3.10/site-packages/transformers/pipelines/base.py:1123: UserWarning: You seem to be using the pipelines sequentially on GPU. In order to maximize efficiency please use a dataset\n",
      "  warnings.warn(\n",
      "Setting `pad_token_id` to `eos_token_id`:2 for open-end generation.\n"
     ]
    },
    {
     "name": "stdout",
     "output_type": "stream",
     "text": [
      "\u001b[32;1m\u001b[1;3m I need to use the pandas library to find the top three most costly procedures.\n",
      "Action: python_repl_ast\n",
      "Action Input: df.groupby('Procedure')['Charges'].sum().nlargest(3)\u001b[0m\u001b[36;1m\u001b[1;3mProcedure\n",
      "oxygen therapy    112456.32\n",
      "bypass surgery     32999.17\n",
      "clot removal       23949.17\n",
      "Name: Charges, dtype: float64\u001b[0m\u001b[32;1m\u001b[1;3m I now know the final answer.\n",
      "Final Answer: The top three most costly procedures are 'oxygen therapy', 'bypass surgery', and 'clot removal'.\u001b[0m\n",
      "\n",
      "\u001b[1m> Finished chain.\u001b[0m\n",
      "{'input': 'What are the top three most costly procedures?', 'output': \"The top three most costly procedures are 'oxygen therapy', 'bypass surgery', and 'clot removal'.\"}\n"
     ]
    }
   ],
   "source": [
    "res = agent.invoke(\"What are the top three most costly procedures?\")\n",
    "print(res)"
   ]
  },
  {
   "cell_type": "markdown",
   "id": "a1d5ad6c-d07e-40fc-91f6-f5a61613f2c6",
   "metadata": {},
   "source": [
    "##### Correct answer:  most costly procedures are 'oxygen therapy', 'bypass surgery', and 'clot removal'"
   ]
  },
  {
   "cell_type": "markdown",
   "id": "9bf194d7-4f58-451e-8f1a-e8112086d56f",
   "metadata": {},
   "source": [
    "### Create visualizations of data using LLM and matplotlib"
   ]
  },
  {
   "cell_type": "code",
   "execution_count": 25,
   "id": "3af52d3a-b6ee-44b3-b589-64d1987d0140",
   "metadata": {},
   "outputs": [
    {
     "name": "stderr",
     "output_type": "stream",
     "text": [
      "/home/demouser/miniconda3/envs/csv/lib/python3.10/site-packages/transformers/pipelines/base.py:1123: UserWarning: You seem to be using the pipelines sequentially on GPU. In order to maximize efficiency please use a dataset\n",
      "  warnings.warn(\n",
      "Setting `pad_token_id` to `eos_token_id`:2 for open-end generation.\n"
     ]
    },
    {
     "name": "stdout",
     "output_type": "stream",
     "text": [
      "\n",
      "\n",
      "\u001b[1m> Entering new AgentExecutor chain...\u001b[0m\n"
     ]
    },
    {
     "name": "stderr",
     "output_type": "stream",
     "text": [
      "/home/demouser/miniconda3/envs/csv/lib/python3.10/site-packages/transformers/pipelines/base.py:1123: UserWarning: You seem to be using the pipelines sequentially on GPU. In order to maximize efficiency please use a dataset\n",
      "  warnings.warn(\n",
      "Setting `pad_token_id` to `eos_token_id`:2 for open-end generation.\n"
     ]
    },
    {
     "name": "stdout",
     "output_type": "stream",
     "text": [
      "\u001b[32;1m\u001b[1;3mThought: I need to use pandas to extract the age column and then use matplotlib to plot a histogram.\n",
      "Action: python_repl_ast\n",
      "Action Input: import matplotlib.pyplot as plt; df['Age'].hist()\u001b[0m\u001b[36;1m\u001b[1;3mAxes(0.125,0.11;0.775x0.77)\u001b[0m"
     ]
    },
    {
     "data": {
      "image/png": "[encoded data removed]",
      "text/plain": [
       "<Figure size 640x480 with 1 Axes>"
      ]
     },
     "metadata": {},
     "output_type": "display_data"
    },
    {
     "name": "stderr",
     "output_type": "stream",
     "text": [
      "/home/demouser/miniconda3/envs/csv/lib/python3.10/site-packages/transformers/pipelines/base.py:1123: UserWarning: You seem to be using the pipelines sequentially on GPU. In order to maximize efficiency please use a dataset\n",
      "  warnings.warn(\n",
      "Setting `pad_token_id` to `eos_token_id`:2 for open-end generation.\n"
     ]
    },
    {
     "name": "stdout",
     "output_type": "stream",
     "text": [
      "\u001b[32;1m\u001b[1;3m I need to display the plot.\n",
      "Action: python_repl_ast\n",
      "Action Input: plt.show()\u001b[0m\u001b[36;1m\u001b[1;3m\u001b[0m\u001b[32;1m\u001b[1;3m I now know the final answer\n",
      "Final Answer: The histogram of age distribution of the patients is displayed.\u001b[0m\n",
      "\n",
      "\u001b[1m> Finished chain.\u001b[0m\n",
      "{'input': 'Plot a histogram of age distribution of the patients.', 'output': 'The histogram of age distribution of the patients is displayed.'}\n"
     ]
    }
   ],
   "source": [
    "res = agent.invoke(\"Plot a histogram of the age distribution of the patients.\")\n",
    "print(res)"
   ]
  },
  {
   "cell_type": "code",
   "execution_count": 26,
   "id": "db9605f3-f202-49f5-b41e-ec704e66b296",
   "metadata": {},
   "outputs": [
    {
     "name": "stderr",
     "output_type": "stream",
     "text": [
      "/home/demouser/miniconda3/envs/csv/lib/python3.10/site-packages/transformers/pipelines/base.py:1123: UserWarning: You seem to be using the pipelines sequentially on GPU. In order to maximize efficiency please use a dataset\n",
      "  warnings.warn(\n",
      "Setting `pad_token_id` to `eos_token_id`:2 for open-end generation.\n"
     ]
    },
    {
     "name": "stdout",
     "output_type": "stream",
     "text": [
      "\n",
      "\n",
      "\u001b[1m> Entering new AgentExecutor chain...\u001b[0m\n"
     ]
    },
    {
     "name": "stderr",
     "output_type": "stream",
     "text": [
      "/home/demouser/miniconda3/envs/csv/lib/python3.10/site-packages/transformers/pipelines/base.py:1123: UserWarning: You seem to be using the pipelines sequentially on GPU. In order to maximize efficiency please use a dataset\n",
      "  warnings.warn(\n",
      "Setting `pad_token_id` to `eos_token_id`:2 for open-end generation.\n"
     ]
    },
    {
     "name": "stdout",
     "output_type": "stream",
     "text": [
      "\u001b[32;1m\u001b[1;3mThought: I need to use the value_counts() method to count the number of occurrences of each procedure, and then normalize those counts to percentages. After that, I can use matplotlib to create a pie chart.\n",
      "Action: python_repl_ast\n",
      "Action Input: df['Procedure'].value_counts().sort_index().div(df['Procedure'].value_counts().sum()).reset_index().rename(columns={'index': 'Procedure', 'Procedure': 'Percentage'}).to_dict('records')\u001b[0m\u001b[36;1m\u001b[1;3m[{'Percentage': 'angioplasty', 'count': 0.08}, {'Percentage': 'antibiotics', 'count': 0.06}, {'Percentage': 'antiviral meds', 'count': 0.26}, {'Percentage': 'bypass surgery', 'count': 0.06}, {'Percentage': 'clot removal', 'count': 0.08}, {'Percentage': 'dialysis', 'count': 0.06}, {'Percentage': 'imaging', 'count': 0.02}, {'Percentage': 'oxygen therapy', 'count': 0.28}, {'Percentage': 'rehab', 'count': 0.04}, {'Percentage': 'ventilator', 'count': 0.06}]\u001b[0m"
     ]
    },
    {
     "name": "stderr",
     "output_type": "stream",
     "text": [
      "/home/demouser/miniconda3/envs/csv/lib/python3.10/site-packages/transformers/pipelines/base.py:1123: UserWarning: You seem to be using the pipelines sequentially on GPU. In order to maximize efficiency please use a dataset\n",
      "  warnings.warn(\n",
      "Setting `pad_token_id` to `eos_token_id`:2 for open-end generation.\n"
     ]
    },
    {
     "name": "stdout",
     "output_type": "stream",
     "text": [
      "\u001b[32;1m\u001b[1;3m Now that I have the data in a dictionary, I can use matplotlib to create the pie chart.\n",
      "Action: python_repl_ast\n",
      "Action Input: import matplotlib.pyplot as plt; labels = [x['Procedure'] for x in data]; sizes = [x['count'] for x in data]; plt.pie(sizes, labels=labels, autopct='%1.1f%%')\u001b[0m\u001b[36;1m\u001b[1;3mNameError: name 'data' is not defined\u001b[0m"
     ]
    },
    {
     "name": "stderr",
     "output_type": "stream",
     "text": [
      "/home/demouser/miniconda3/envs/csv/lib/python3.10/site-packages/transformers/pipelines/base.py:1123: UserWarning: You seem to be using the pipelines sequentially on GPU. In order to maximize efficiency please use a dataset\n",
      "  warnings.warn(\n",
      "Setting `pad_token_id` to `eos_token_id`:2 for open-end generation.\n"
     ]
    },
    {
     "name": "stdout",
     "output_type": "stream",
     "text": [
      "\u001b[32;1m\u001b[1;3m I forgot to assign the dictionary to a variable.\n",
      "Action: python_repl_ast\n",
      "Action Input: data = [{'Percentage': 'angioplasty', 'count': 0.08}, {'Percentage': 'antibiotics', 'count': 0.06}, {'Percentage': 'antiviral meds', 'count': 0.26}, {'Percentage': 'bypass surgery', 'count': 0.06}, {'Percentage': 'clot removal', 'count': 0.08}, {'Percentage': 'dialysis', 'count': 0.06}, {'Percentage': 'imaging', 'count': 0.02}, {'Percentage': 'oxygen therapy', 'count': 0.28}, {'Percentage':'rehab', 'count': 0.04}, {'Percentage':'ventilator', 'count': 0.06}]\u001b[0m\u001b[36;1m\u001b[1;3m\u001b[0m"
     ]
    },
    {
     "name": "stderr",
     "output_type": "stream",
     "text": [
      "/home/demouser/miniconda3/envs/csv/lib/python3.10/site-packages/transformers/pipelines/base.py:1123: UserWarning: You seem to be using the pipelines sequentially on GPU. In order to maximize efficiency please use a dataset\n",
      "  warnings.warn(\n",
      "Setting `pad_token_id` to `eos_token_id`:2 for open-end generation.\n"
     ]
    },
    {
     "name": "stdout",
     "output_type": "stream",
     "text": [
      "\u001b[32;1m\u001b[1;3m Now that I have the data in a variable, I can create the pie chart.\n",
      "Action: python_repl_ast\n",
      "Action Input: plt.pie( [x['count'] for x in data], labels=[x['Percentage'] for x in data], autopct='%1.1f%%')\u001b[0m\u001b[36;1m\u001b[1;3m([<matplotlib.patches.Wedge object at 0x7fce8823bee0>, <matplotlib.patches.Wedge object at 0x7fce8823be20>, <matplotlib.patches.Wedge object at 0x7fce8828cc10>, <matplotlib.patches.Wedge object at 0x7fce8828d2a0>, <matplotlib.patches.Wedge object at 0x7fce8828d930>, <matplotlib.patches.Wedge object at 0x7fce8828dfc0>, <matplotlib.patches.Wedge object at 0x7fce8828e650>, <matplotlib.patches.Wedge object at 0x7fce8828ece0>, <matplotlib.patches.Wedge object at 0x7fce8828f370>, <matplotlib.patches.Wedge object at 0x7fce8828fa00>], [Text(1.0654414787782402, 0.27355886989611045, 'angioplasty'), Text(0.8475645778852774, 0.7011663756300295, 'antibiotics'), Text(-0.1378665027667493, 1.0913261782871637, 'antiviral meds'), Text(-0.9953097184661809, 0.46835730412450277, 'bypass surgery'), Text(-1.0999999999999954, 1.0298943285007232e-07, 'clot removal'), Text(-0.9953098061677148, -0.4683571177492516, 'dialysis'), Text(-0.8475646435332076, -0.7011662962753037, 'imaging'), Text(0.06906945430596818, -1.097829408643199, 'oxygen therapy'), Text(0.9639372919826869, -0.529929143494755, 'rehab'), Text(1.080515952547105, -0.20611956794836978, 'ventilator')], [Text(0.5811498975154037, 0.14921392903424205, '8.0%'), Text(0.4623079515737876, 0.38245438670728876, '6.0%'), Text(-0.07519991060004506, 0.595268824520271, '26.0%'), Text(-0.5428962100724622, 0.25546762043154697, '6.0%'), Text(-0.5999999999999974, 5.617605428185762e-08, '8.0%'), Text(-0.5428962579096626, -0.255467518772319, '6.0%'), Text(-0.46230798738174955, -0.38245434342289286, '2.0%'), Text(0.03767424780325537, -0.5988160410781085, '28.0%'), Text(0.5257839774451019, -0.28905226008804813, '4.0%'), Text(0.5893723377529663, -0.11242885524456532, '6.0%')])\u001b[0m\u001b[32;1m\u001b[1;3m The pie chart has been created and displayed.\n",
      "Final Answer: The pie chart has been created and displayed.\u001b[0m\n",
      "\n",
      "\u001b[1m> Finished chain.\u001b[0m\n",
      "{'input': 'Plot a pie chart of the number of procedures based on percentage.', 'output': 'The pie chart has been created and displayed.'}\n"
     ]
    },
    {
     "data": {
      "image/png": "[encoded data removed]",
      "text/plain": [
       "<Figure size 640x480 with 1 Axes>"
      ]
     },
     "metadata": {},
     "output_type": "display_data"
    }
   ],
   "source": [
    "res = agent.invoke(\"Plot a pie chart of the number of procedures based on percentage.\")\n",
    "print(res)"
   ]
  },
  {
   "cell_type": "markdown",
   "id": "bf6ed185-6fbe-4055-aa39-a67a1ba75bb2",
   "metadata": {},
   "source": [
    "### Print conda environment and versions"
   ]
  },
  {
   "cell_type": "code",
   "execution_count": 24,
   "id": "626b2fb5-ec34-487e-ae99-c78c8afb7c74",
   "metadata": {},
   "outputs": [
    {
     "name": "stdout",
     "output_type": "stream",
     "text": [
      "name: csv\n",
      "channels:\n",
      "  - pytorch\n",
      "  - nvidia\n",
      "  - conda-forge\n",
      "dependencies:\n",
      "  - _libgcc_mutex=0.1=conda_forge\n",
      "  - _openmp_mutex=4.5=2_kmp_llvm\n",
      "  - asttokens=2.4.1=pyhd8ed1ab_0\n",
      "  - blas=2.116=mkl\n",
      "  - blas-devel=3.9.0=16_linux64_mkl\n",
      "  - brotli-python=1.1.0=py310hc6cd4ac_1\n",
      "  - bzip2=1.0.8=hd590300_5\n",
      "  - ca-certificates=2024.2.2=hbcca054_0\n",
      "  - certifi=2024.2.2=pyhd8ed1ab_0\n",
      "  - charset-normalizer=3.3.2=pyhd8ed1ab_0\n",
      "  - comm=0.2.1=pyhd8ed1ab_0\n",
      "  - cuda-cudart=12.1.105=0\n",
      "  - cuda-cupti=12.1.105=0\n",
      "  - cuda-libraries=12.1.0=0\n",
      "  - cuda-nvrtc=12.1.105=0\n",
      "  - cuda-nvtx=12.1.105=0\n",
      "  - cuda-opencl=12.3.101=0\n",
      "  - cuda-runtime=12.1.0=0\n",
      "  - debugpy=1.8.1=py310hc6cd4ac_0\n",
      "  - decorator=5.1.1=pyhd8ed1ab_0\n",
      "  - exceptiongroup=1.2.0=pyhd8ed1ab_2\n",
      "  - executing=2.0.1=pyhd8ed1ab_0\n",
      "  - ffmpeg=4.3=hf484d3e_0\n",
      "  - filelock=3.13.1=pyhd8ed1ab_0\n",
      "  - freetype=2.12.1=h267a509_2\n",
      "  - gmp=6.3.0=h59595ed_0\n",
      "  - gmpy2=2.1.2=py310h3ec546c_1\n",
      "  - gnutls=3.6.13=h85f3911_1\n",
      "  - icu=73.2=h59595ed_0\n",
      "  - idna=3.6=pyhd8ed1ab_0\n",
      "  - importlib-metadata=7.0.1=pyha770c72_0\n",
      "  - importlib_metadata=7.0.1=hd8ed1ab_0\n",
      "  - ipykernel=6.29.2=pyhd33586a_0\n",
      "  - ipython=8.21.0=pyh707e725_0\n",
      "  - ipywidgets=8.1.2=pyhd8ed1ab_0\n",
      "  - jedi=0.19.1=pyhd8ed1ab_0\n",
      "  - jinja2=3.1.3=pyhd8ed1ab_0\n",
      "  - joblib=1.3.2=pyhd8ed1ab_0\n",
      "  - jpeg=9e=h166bdaf_2\n",
      "  - jupyter_client=8.6.0=pyhd8ed1ab_0\n",
      "  - jupyter_core=5.7.1=py310hff52083_0\n",
      "  - jupyterlab_widgets=3.0.10=pyhd8ed1ab_0\n",
      "  - lame=3.100=h166bdaf_1003\n",
      "  - lcms2=2.15=hfd0df8a_0\n",
      "  - ld_impl_linux-64=2.40=h41732ed_0\n",
      "  - lerc=4.0.0=h27087fc_0\n",
      "  - libblas=3.9.0=16_linux64_mkl\n",
      "  - libcblas=3.9.0=16_linux64_mkl\n",
      "  - libcublas=12.1.0.26=0\n",
      "  - libcufft=11.0.2.4=0\n",
      "  - libcufile=1.8.1.2=0\n",
      "  - libcurand=10.3.4.107=0\n",
      "  - libcusolver=11.4.4.55=0\n",
      "  - libcusparse=12.0.2.55=0\n",
      "  - libdeflate=1.17=h0b41bf4_0\n",
      "  - libffi=3.4.2=h7f98852_5\n",
      "  - libgcc-ng=13.2.0=h807b86a_5\n",
      "  - libgfortran-ng=13.2.0=h69a702a_5\n",
      "  - libgfortran5=13.2.0=ha4646dd_5\n",
      "  - libgomp=13.2.0=h807b86a_5\n",
      "  - libhwloc=2.9.3=default_h554bfaf_1009\n",
      "  - libiconv=1.17=hd590300_2\n",
      "  - libjpeg-turbo=2.0.0=h9bf148f_0\n",
      "  - liblapack=3.9.0=16_linux64_mkl\n",
      "  - liblapacke=3.9.0=16_linux64_mkl\n",
      "  - libnpp=12.0.2.50=0\n",
      "  - libnsl=2.0.1=hd590300_0\n",
      "  - libnvjitlink=12.1.105=0\n",
      "  - libnvjpeg=12.1.1.14=0\n",
      "  - libpng=1.6.42=h2797004_0\n",
      "  - libsodium=1.0.18=h36c2ea0_1\n",
      "  - libsqlite=3.45.1=h2797004_0\n",
      "  - libstdcxx-ng=13.2.0=h7e041cc_5\n",
      "  - libtiff=4.5.0=h6adf6a1_2\n",
      "  - libuuid=2.38.1=h0b41bf4_0\n",
      "  - libwebp-base=1.3.2=hd590300_0\n",
      "  - libxcb=1.13=h7f98852_1004\n",
      "  - libxcrypt=4.4.36=hd590300_1\n",
      "  - libxml2=2.12.5=h232c23b_0\n",
      "  - libzlib=1.2.13=hd590300_5\n",
      "  - llvm-openmp=15.0.7=h0cdce71_0\n",
      "  - markupsafe=2.1.5=py310h2372a71_0\n",
      "  - matplotlib-inline=0.1.6=pyhd8ed1ab_0\n",
      "  - mkl=2022.1.0=h84fe81f_915\n",
      "  - mkl-devel=2022.1.0=ha770c72_916\n",
      "  - mkl-include=2022.1.0=h84fe81f_915\n",
      "  - mpc=1.3.1=hfe3b2da_0\n",
      "  - mpfr=4.2.1=h9458935_0\n",
      "  - mpmath=1.3.0=pyhd8ed1ab_0\n",
      "  - ncurses=6.4=h59595ed_2\n",
      "  - nest-asyncio=1.6.0=pyhd8ed1ab_0\n",
      "  - nettle=3.6=he412f7d_0\n",
      "  - networkx=3.2.1=pyhd8ed1ab_0\n",
      "  - numpy=1.26.4=py310hb13e2d6_0\n",
      "  - openh264=2.1.1=h780b84a_0\n",
      "  - openjpeg=2.5.0=hfec8fc6_2\n",
      "  - openssl=3.2.1=hd590300_0\n",
      "  - packaging=23.2=pyhd8ed1ab_0\n",
      "  - pandas=2.2.0=py310hcc13569_0\n",
      "  - parso=0.8.3=pyhd8ed1ab_0\n",
      "  - pexpect=4.9.0=pyhd8ed1ab_0\n",
      "  - pickleshare=0.7.5=py_1003\n",
      "  - pillow=9.4.0=py310h023d228_1\n",
      "  - pip=24.0=pyhd8ed1ab_0\n",
      "  - platformdirs=4.2.0=pyhd8ed1ab_0\n",
      "  - prompt-toolkit=3.0.42=pyha770c72_0\n",
      "  - psutil=5.9.8=py310h2372a71_0\n",
      "  - pthread-stubs=0.4=h36c2ea0_1001\n",
      "  - ptyprocess=0.7.0=pyhd3deb0d_0\n",
      "  - pure_eval=0.2.2=pyhd8ed1ab_0\n",
      "  - pygments=2.17.2=pyhd8ed1ab_0\n",
      "  - pysocks=1.7.1=pyha2e5f31_6\n",
      "  - python=3.10.13=hd12c33a_1_cpython\n",
      "  - python-dateutil=2.8.2=pyhd8ed1ab_0\n",
      "  - python-tzdata=2024.1=pyhd8ed1ab_0\n",
      "  - python_abi=3.10=4_cp310\n",
      "  - pytorch=2.2.0=py3.10_cuda12.1_cudnn8.9.2_0\n",
      "  - pytorch-cuda=12.1=ha16c6d3_5\n",
      "  - pytorch-mutex=1.0=cuda\n",
      "  - pytz=2024.1=pyhd8ed1ab_0\n",
      "  - pyyaml=6.0.1=py310h2372a71_1\n",
      "  - pyzmq=25.1.2=py310h795f18f_0\n",
      "  - readline=8.2=h8228510_1\n",
      "  - requests=2.31.0=pyhd8ed1ab_0\n",
      "  - scikit-learn=1.4.1.post1=py310h1fdf081_0\n",
      "  - scipy=1.12.0=py310hb13e2d6_2\n",
      "  - setuptools=69.1.0=pyhd8ed1ab_1\n",
      "  - six=1.16.0=pyh6c4a22f_0\n",
      "  - stack_data=0.6.2=pyhd8ed1ab_0\n",
      "  - sympy=1.12=pypyh9d50eac_103\n",
      "  - tabulate=0.9.0=pyhd8ed1ab_1\n",
      "  - tbb=2021.11.0=h00ab1b0_1\n",
      "  - threadpoolctl=3.3.0=pyhc1e730c_0\n",
      "  - tk=8.6.13=noxft_h4845f30_101\n",
      "  - torchaudio=2.2.0=py310_cu121\n",
      "  - torchtriton=2.2.0=py310\n",
      "  - torchvision=0.17.0=py310_cu121\n",
      "  - tornado=6.4=py310h2372a71_0\n",
      "  - traitlets=5.14.1=pyhd8ed1ab_0\n",
      "  - typing_extensions=4.9.0=pyha770c72_0\n",
      "  - tzdata=2024a=h0c530f3_0\n",
      "  - urllib3=2.2.1=pyhd8ed1ab_0\n",
      "  - wcwidth=0.2.13=pyhd8ed1ab_0\n",
      "  - wheel=0.42.0=pyhd8ed1ab_0\n",
      "  - widgetsnbextension=4.0.10=pyhd8ed1ab_0\n",
      "  - xorg-libxau=1.0.11=hd590300_0\n",
      "  - xorg-libxdmcp=1.1.3=h7f98852_0\n",
      "  - xz=5.2.6=h166bdaf_0\n",
      "  - yaml=0.2.5=h7f98852_2\n",
      "  - zeromq=4.3.5=h59595ed_0\n",
      "  - zipp=3.17.0=pyhd8ed1ab_0\n",
      "  - zlib=1.2.13=hd590300_5\n",
      "  - zstd=1.5.5=hfc55251_0\n",
      "  - pip:\n",
      "      - accelerate==0.27.2\n",
      "      - aiohttp==3.9.3\n",
      "      - aiosignal==1.3.1\n",
      "      - annotated-types==0.6.0\n",
      "      - anyio==4.3.0\n",
      "      - async-timeout==4.0.3\n",
      "      - attrs==23.2.0\n",
      "      - auto-gptq==0.7.0\n",
      "      - bitsandbytes==0.42.0\n",
      "      - click==8.1.7\n",
      "      - contourpy==1.2.0\n",
      "      - cycler==0.12.1\n",
      "      - dataclasses-json==0.6.4\n",
      "      - datasets==2.17.1\n",
      "      - dill==0.3.8\n",
      "      - fonttools==4.49.0\n",
      "      - frozenlist==1.4.1\n",
      "      - fsspec==2023.10.0\n",
      "      - gekko==1.0.6\n",
      "      - greenlet==3.0.3\n",
      "      - huggingface-hub==0.20.3\n",
      "      - jsonpatch==1.33\n",
      "      - jsonpointer==2.4\n",
      "      - kiwisolver==1.4.5\n",
      "      - langchain==0.1.7\n",
      "      - langchain-community==0.0.20\n",
      "      - langchain-core==0.1.23\n",
      "      - langchain-experimental==0.0.51\n",
      "      - langsmith==0.0.87\n",
      "      - marshmallow==3.20.2\n",
      "      - matplotlib==3.8.3\n",
      "      - multidict==6.0.5\n",
      "      - multiprocess==0.70.16\n",
      "      - mypy-extensions==1.0.0\n",
      "      - nltk==3.8.1\n",
      "      - peft==0.8.2\n",
      "      - pyarrow==15.0.0\n",
      "      - pyarrow-hotfix==0.6\n",
      "      - pydantic==2.6.1\n",
      "      - pydantic-core==2.16.2\n",
      "      - pyparsing==3.1.1\n",
      "      - regex==2023.12.25\n",
      "      - rouge==1.0.1\n",
      "      - safetensors==0.4.2\n",
      "      - sentence-transformers==2.3.1\n",
      "      - sentencepiece==0.2.0\n",
      "      - sniffio==1.3.0\n",
      "      - sqlalchemy==2.0.27\n",
      "      - tenacity==8.2.3\n",
      "      - tokenizers==0.15.2\n",
      "      - tqdm==4.66.2\n",
      "      - transformers==4.37.2\n",
      "      - typing-inspect==0.9.0\n",
      "      - xxhash==3.4.1\n",
      "      - yarl==1.9.4\n"
     ]
    }
   ],
   "source": [
    "!conda env export --name csv | grep -v \"^prefix: \""
   ]
  },
  {
   "cell_type": "markdown",
   "id": "212a5fa3-2f9d-497a-a994-e2878033283e",
   "metadata": {},
   "source": [
    "##### Author:  David O'Dell, Dell Technologies Tech Marketing Engineer, Data Solutions and AI\n",
    "Inspiration code:  https://python.langchain.com/docs/integrations/toolkits/csv\n"
   ]
  },
  {
   "cell_type": "code",
   "execution_count": null,
   "id": "380bc48e-3c6b-4466-bb58-4c6a36c7411c",
   "metadata": {},
   "outputs": [],
   "source": []
  }
 ],
 "metadata": {
  "kernelspec": {
   "display_name": "csv",
   "language": "python",
   "name": "csv"
  },
  "language_info": {
   "codemirror_mode": {
    "name": "ipython",
    "version": 3
   },
   "file_extension": ".py",
   "mimetype": "text/x-python",
   "name": "python",
   "nbconvert_exporter": "python",
   "pygments_lexer": "ipython3",
   "version": "3.10.13"
  }
 },
 "nbformat": 4,
 "nbformat_minor": 5
}
