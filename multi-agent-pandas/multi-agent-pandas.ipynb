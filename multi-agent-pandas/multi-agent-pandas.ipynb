{
 "cells": [
  {
   "cell_type": "markdown",
   "id": "d7dc7e39-dd9a-43e3-8d9a-f77af583004c",
   "metadata": {},
   "source": [
    "## REACT multimodal multi agent with Pandas\n",
    "#### by David O'Dell\n",
    "\n",
    "A set of tools is defined whereby the model decides which is the most appropriate tool.  Tool choice is based on the user prompt and some guidance in the system prompt.  The tools include a simple python function (datetime), web search, and a Pandas query of synthetic patient data as typically found in a clinic.  The pandas query is a nested agent itself and is activated when the LLM understands that the question is related only to patient data.  The pandas supports text to graphic output by generating graphs based on the patient data.  \n"
   ]
  },
  {
   "cell_type": "markdown",
   "id": "5d2b67c0-809b-429d-947d-e30012790dec",
   "metadata": {},
   "source": [
    "<img src=\"images/multi-agent-pandas.jpg\" alt=\"Alternative text\" />"
   ]
  },
  {
   "cell_type": "markdown",
   "id": "7f8c3072-05ac-4de0-a2b1-352481068c8d",
   "metadata": {},
   "source": [
    "## Installed libraries"
   ]
  },
  {
   "cell_type": "code",
   "execution_count": null,
   "id": "5ac77491-212f-450d-ae73-2448c3422379",
   "metadata": {},
   "outputs": [],
   "source": [
    "# ## langchain libraries\n",
    "# %pip install -q langchain==0.3.24\n",
    "# %pip install -q langchain-core==0.3.56\n",
    "# %pip install -q langchain-community==0.3.23\n",
    "# %pip install -q langchain-experimental==0.3.4\n",
    "# %pip install -q langchain-openai==0.3.3\n",
    "# %pip install -q langchain-text-splitters==0.3.8\n",
    "\n",
    "\n",
    "# ## other libraries\n",
    "# %pip install -q accelerate==1.3.0\n",
    "# %pip install -q gradio==4.44.1\n",
    "# %pip install -q matplotlib==3.10.0\n",
    "# %pip install -q pydantic==2.10.6\n",
    "# %pip install -q tabulate==0.9.0\n",
    "# %pip install -q tavily-python==0.5.1\n",
    "# %pip install -q transformers==4.48.3\n"
   ]
  },
  {
   "cell_type": "code",
   "execution_count": null,
   "id": "eaec1edd-9c18-4b1f-a0e8-e3ed03b3141f",
   "metadata": {},
   "outputs": [],
   "source": [
    "import torch\n",
    "import sys\n",
    "import os\n",
    "import transformers\n",
    "import pandas as pd\n",
    "import gradio as gr\n",
    "import matplotlib.pyplot as plt\n",
    "import requests\n",
    "\n",
    "from langchain.tools import tool\n",
    "from langchain.agents import AgentType, initialize_agent, load_tools, AgentExecutor, create_react_agent\n",
    "from langchain_core.prompts.prompt import PromptTemplate\n",
    "from langchain_experimental.agents import create_pandas_dataframe_agent\n",
    "from langchain_openai import ChatOpenAI\n",
    "from langchain_community.tools import TavilySearchResults\n",
    "from langchain_experimental.tools import PythonAstREPLTool\n",
    "from pydantic import BaseModel\n",
    "\n",
    "from datetime import datetime\n",
    "from subprocess import call\n",
    "from IPython.display import display\n",
    "from PIL import Image"
   ]
  },
  {
   "cell_type": "code",
   "execution_count": null,
   "id": "d2fc7b07-b197-465b-a429-b2defbc1c788",
   "metadata": {},
   "outputs": [],
   "source": [
    "# model_id = \"meta/llama-3.1-70b-instruct\"\n",
    "# api_url = \"http://192.168.51.9:30003/v1\"\n",
    "\n",
    "\n",
    "model_id = \"meta/llama-3.1-70b-instruct\"\n",
    "api_url = \"http://192.168.51.11:32001/v1\"     ### WORKER NODE IP AND PORT FOR LLM\n",
    "\n",
    "llm = ChatOpenAI(\n",
    "    base_url=api_url,\n",
    "    api_key=\"mykey1234\",   ### this is a made up key, doesn't actually exist\n",
    "    model=model_id,\n",
    "    temperature=0,\n",
    "    max_tokens=None,\n",
    ")"
   ]
  },
  {
   "cell_type": "code",
   "execution_count": null,
   "id": "f55dfd74-4735-4ee2-ac9e-e32d73f7b6dc",
   "metadata": {},
   "outputs": [],
   "source": [
    "df = pd.read_csv('csv-files/healthcare.csv')\n",
    "print(df.head(5))"
   ]
  },
  {
   "cell_type": "code",
   "execution_count": null,
   "id": "cee8a691-8d71-43e5-b3d4-db5b9cba54be",
   "metadata": {},
   "outputs": [],
   "source": [
    "# from langchain.globals import set_verbose, set_debug\n",
    "# set_debug(True)\n",
    "# set_verbose(True)"
   ]
  },
  {
   "cell_type": "markdown",
   "id": "d229aa1b-ebc5-452e-9fc4-e1fc055df27a",
   "metadata": {},
   "source": [
    "### Web search API key"
   ]
  },
  {
   "cell_type": "code",
   "execution_count": null,
   "id": "ccc4e0d6-3bfc-492d-9278-f08b0c29d286",
   "metadata": {},
   "outputs": [],
   "source": [
    "os.environ[\"TAVILY_API_KEY\"] = \"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\"\n"
   ]
  },
  {
   "cell_type": "markdown",
   "id": "36518ac4-e3af-4a02-a8b5-d5ad4c22dfb4",
   "metadata": {},
   "source": [
    "### Define tools"
   ]
  },
  {
   "cell_type": "code",
   "execution_count": null,
   "id": "82e8da59-a6ba-4b98-8c62-e2accb48cb77",
   "metadata": {},
   "outputs": [],
   "source": [
    "@tool\n",
    "def current_datetime(input: str) -> str:\n",
    "    \"\"\"Get the current date and time\n",
    "    Returns:\n",
    "        str: The current date and time\n",
    "    \"\"\"\n",
    "    return datetime.now().strftime('%A %d %B %Y, %I:%M%p')\n",
    "\n",
    "\n",
    "# @tool\n",
    "# def python_tool(input: str) -> str:\n",
    "#     \"\"\"Perform python commands\n",
    "#     Returns:\n",
    "#         str: The result of the command\n",
    "#     \"\"\"    \n",
    "#     # Execute the code\n",
    "#     result = PythonAstREPLTool.invoke(input)\n",
    "#     return {\"result\": result}\n",
    "\n",
    "\n",
    "@tool\n",
    "def web_search(input: str) -> str:\n",
    "    \"\"\"Perform a web search and return the results\n",
    "    Returns:\n",
    "        str: The search results\n",
    "    \"\"\"\n",
    "    web_search_tool = TavilySearchResults(max_results=5) \n",
    "    result = web_search_tool.invoke(input)\n",
    "    return {\"result\": result}\n",
    "\n",
    "\n",
    "@tool\n",
    "def pandas_agent(input: str) -> str:\n",
    "    \"\"\"Process the input using the pandas dataframe agent\n",
    "    Returns:\n",
    "        str: The result from the pandas dataframe agent\n",
    "    \"\"\"\n",
    "    df_agent = create_pandas_dataframe_agent(\n",
    "        llm,\n",
    "        df,\n",
    "        verbose=True,\n",
    "        allow_dangerous_code=True,\n",
    "        return_intermediate_steps=True, \n",
    "        agent_type=AgentType.ZERO_SHOT_REACT_DESCRIPTION,\n",
    "    )\n",
    "\n",
    "    result = df_agent.invoke(input)\n",
    "    return {\"result\": result}"
   ]
  },
  {
   "cell_type": "markdown",
   "id": "cf71cc97-d547-4e2f-becc-8394f57075a1",
   "metadata": {},
   "source": [
    "### Declare tools"
   ]
  },
  {
   "cell_type": "code",
   "execution_count": null,
   "id": "df1d63f7-edb7-4cf2-ae8a-261725367403",
   "metadata": {},
   "outputs": [],
   "source": [
    "tools = [current_datetime, web_search, pandas_agent]"
   ]
  },
  {
   "cell_type": "markdown",
   "id": "60406264-1e72-433e-8879-2c3887f64708",
   "metadata": {},
   "source": [
    "### Define system prompt"
   ]
  },
  {
   "cell_type": "code",
   "execution_count": null,
   "id": "d2099225-7560-4601-aca2-c7fadf688681",
   "metadata": {},
   "outputs": [],
   "source": [
    "template = \"\"\" \n",
    "You are a healthcare clinic assistant that has access to additional tools in order to answer the following questions as best you can\n",
    "even if some questions are not exactly related to healthcare. \n",
    "\n",
    "You have access to the following tools:\n",
    "\n",
    "{tools}\n",
    "\n",
    "The web_search tool is good for searching the web for recent information about people, places and global data.\n",
    "\n",
    "The current_datetime tool is great for telling the current time, referencing past and future times and calculating dates. \n",
    "\n",
    "The pandas_agent tool should only be used when being asked specific questions related to patient data.   \n",
    "This tool allows you to access specific patient data in CSV format.\n",
    "When using the pandas_agent tool, you must be careful in your final answer NOT to include any backticks as this will cause the LLM parsing to fail.\n",
    "If you notice any backticks in the final answer, you must enclose them in brackets like this: [``] so that they do not cause parsing errors.\n",
    "\n",
    "\n",
    "To use a tool, please use the following format:\n",
    "\n",
    "'''\n",
    "Thought: Do I need to use a tool? Yes\n",
    "Action: the action to take, should be one of these tools... [{tool_names}]\n",
    "Action Input: the input to the action\n",
    "Observation: the result of the action\n",
    "... (this Thought/Action/Action Input/Observation can repeat 3 times)\n",
    "'''\n",
    "\n",
    "\n",
    "When you have a response to say to the Human, or if you do not need to use a tool, you MUST use the format:\n",
    "'''\n",
    "Thought: Do I need to use a tool? No\n",
    "Final Answer: [your response here]\n",
    "'''\n",
    "\n",
    "Begin!\n",
    "\n",
    "Question: {input}\n",
    "Thought:{agent_scratchpad}\n",
    "\"\"\""
   ]
  },
  {
   "cell_type": "markdown",
   "id": "10803cc6-10d4-4ab5-85b2-bef9a29fd837",
   "metadata": {},
   "source": [
    "### Integrate tools and Agent Executor"
   ]
  },
  {
   "cell_type": "code",
   "execution_count": null,
   "id": "a1bff89e-2ab1-4c5c-abb1-aa66ef3b1ccc",
   "metadata": {},
   "outputs": [],
   "source": [
    "prompt = PromptTemplate.from_template(template)\n",
    "react_agent = create_react_agent(llm, tools, prompt)\n",
    "agent_executor = AgentExecutor(agent=react_agent, tools=tools, verbose=True, return_intermediate_steps=True)"
   ]
  },
  {
   "cell_type": "markdown",
   "id": "620ea297-8306-4b65-944f-864e97d25dcd",
   "metadata": {},
   "source": [
    "### function used for Gradio GUI"
   ]
  },
  {
   "cell_type": "code",
   "execution_count": null,
   "id": "c8ed7a0d-f76d-4e36-a5ef-9dd2c3928459",
   "metadata": {},
   "outputs": [],
   "source": [
    "def handle_query(user_prompt):\n",
    "    \n",
    "    global plot_path\n",
    "    plot_path = None  # Reset plot_path at the beginning\n",
    "\n",
    "    query = agent_executor.invoke({\"input\": user_prompt})\n",
    "    \n",
    "    # Check if any figures are open\n",
    "    if plt.get_fignums():\n",
    "        # Save the plot if it exists\n",
    "        plot_path = \"images/my_chart.png\"\n",
    "        plt.savefig(plot_path)\n",
    "        plt.close()\n",
    "\n",
    "    if plot_path is None:\n",
    "        return query[\"output\"], None\n",
    "    else:\n",
    "        return query[\"output\"], plot_path"
   ]
  },
  {
   "cell_type": "code",
   "execution_count": null,
   "id": "581d088e-1787-4900-8747-462a018b37b4",
   "metadata": {},
   "outputs": [],
   "source": [
    "# response = handle_query(\"Create a barplot of the age distribution of the patients.\")\n",
    "\n",
    "# if plot_path:\n",
    "#     print(\"\\n\\n======== PRINTING PLOT =========\\n\")\n",
    "#     display(Image.open(plot_path))"
   ]
  },
  {
   "cell_type": "code",
   "execution_count": null,
   "id": "a660fb49-f10a-4dd8-aa03-953320cc0435",
   "metadata": {},
   "outputs": [],
   "source": [
    "# response = handle_query(\"Create a pie chart plot of the number of procedures based on percentage.\")\n",
    "\n",
    "# if plot_path:\n",
    "#     print(\"\\n\\n======== PLOT WAS CREATED, DISPLAYING PLOT =========\\n\")\n",
    "#     display(Image.open(plot_path))"
   ]
  },
  {
   "cell_type": "code",
   "execution_count": null,
   "id": "bf56b355-9dfb-48ca-9658-9d9dc73d6741",
   "metadata": {},
   "outputs": [],
   "source": [
    "# response = handle_query(\"Provide a list of the top 5 unique reasons for admissions in descending order..\")\n",
    "\n",
    "# if plot_path:\n",
    "#     print(\"\\n\\n======== PLOT WAS CREATED, DISPLAYING PLOT =========\\n\")\n",
    "#     display(Image.open(plot_path))"
   ]
  },
  {
   "cell_type": "code",
   "execution_count": null,
   "id": "c5144743-6259-4207-960f-e8adedfa07a0",
   "metadata": {},
   "outputs": [],
   "source": [
    "# Create the Gradio interface with examples\n",
    "iface = gr.Interface(\n",
    "    fn=handle_query,\n",
    "    inputs=gr.Textbox(lines=2, placeholder=\"Enter your query here...\"),\n",
    "    outputs=[\"text\", \"image\"],\n",
    "    title=\"Multi agent, multi tool chatbot (Web, Pandas and Datetime)\",\n",
    "    examples=[\n",
    "        [\"Create a colorful bar graph of the top 5 unique reasons for admissions in descending order.\"],\n",
    "        [\"What was the date of discharge for patients 33 and 40?  I would like to send them a small notice.  Can you provide me a small notice to them?\"],\n",
    "        [\"Cross reference and plot the total charges of all patients with the reason for admission to determine which reason had the highest cost.   Please include the results from the cross reference and costs in your response formatted nicely.\"],\n",
    "        [\"Create a histogram of the age distribution of the patients under 30 years of age.\"],\n",
    "        [\"Create a pie chart plot of the number of procedures based on percentage.\"],\n",
    "        [\"What time would it be if it was two hours later from now?\"],\n",
    "        [\"What is the plot to the movie Tron?\"],\n",
    "        [\"Based on public information, what is the most recent population count of the state of Texas?\"],\n",
    "    ]\n",
    ")\n",
    "\n",
    "# Launch the interface\n",
    "iface.launch(share=False, debug=True, server_name=\"192.168.51.11\", server_port=7870, allowed_paths=[\"images/\"])"
   ]
  },
  {
   "cell_type": "code",
   "execution_count": null,
   "id": "e8f0242b-6ca2-4090-a534-3152a9310c04",
   "metadata": {},
   "outputs": [],
   "source": []
  }
 ],
 "metadata": {
  "kernelspec": {
   "display_name": "Test Kernel",
   "language": "python",
   "name": "test"
  },
  "language_info": {
   "codemirror_mode": {
    "name": "ipython",
    "version": 3
   },
   "file_extension": ".py",
   "mimetype": "text/x-python",
   "name": "python",
   "nbconvert_exporter": "python",
   "pygments_lexer": "ipython3",
   "version": "3.12.3"
  }
 },
 "nbformat": 4,
 "nbformat_minor": 5
}
